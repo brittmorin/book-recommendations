{
 "cells": [
  {
   "cell_type": "code",
   "execution_count": 30,
   "metadata": {
    "collapsed": true
   },
   "outputs": [],
   "source": [
    "import pandas as pd\n",
    "import numpy as np\n",
    "import pymongo\n",
    "import re\n",
    "import json\n",
    "import pprint\n",
    "import warnings"
   ]
  },
  {
   "cell_type": "code",
   "execution_count": 31,
   "outputs": [],
   "source": [
    "#Connect to mongodb\n",
    "\n",
    "myclient = pymongo.MongoClient('mongodb://localhost:27017/')\n",
    "mydb = myclient['goodreads_books']\n",
    "mycol = mydb['book data']"
   ],
   "metadata": {
    "collapsed": false,
    "pycharm": {
     "name": "#%%\n"
    }
   }
  },
  {
   "cell_type": "code",
   "execution_count": 32,
   "outputs": [],
   "source": [
    "#Pull data from database\n",
    "\n",
    "myquery = {'language_code': 'eng'}"
   ],
   "metadata": {
    "collapsed": false,
    "pycharm": {
     "name": "#%%\n"
    }
   }
  },
  {
   "cell_type": "code",
   "execution_count": 33,
   "outputs": [],
   "source": [
    "#Execute query\n",
    "\n",
    "cursor = mycol.find(myquery)"
   ],
   "metadata": {
    "collapsed": false,
    "pycharm": {
     "name": "#%%\n"
    }
   }
  },
  {
   "cell_type": "code",
   "execution_count": 34,
   "outputs": [],
   "source": [
    "list_cur = list(cursor[0:50000])"
   ],
   "metadata": {
    "collapsed": false,
    "pycharm": {
     "name": "#%%\n"
    }
   }
  },
  {
   "cell_type": "code",
   "execution_count": 35,
   "outputs": [],
   "source": [
    "df = pd.DataFrame(list_cur)"
   ],
   "metadata": {
    "collapsed": false,
    "pycharm": {
     "name": "#%%\n"
    }
   }
  },
  {
   "cell_type": "code",
   "execution_count": 36,
   "outputs": [
    {
     "data": {
      "text/plain": "                        _id        isbn text_reviews_count     series  \\\n0  623e55ba01c96d282f264672                              7   [189911]   \n1  623e55ba01c96d282f264673  0743294297               3282         []   \n2  623e55ba01c96d282f26467b                             60  [1052227]   \n3  623e55ba01c96d282f26467e  555118000X                 19         []   \n4  623e55ba01c96d282f264680  0842379428                566         []   \n\n  country_code language_code  \\\n0           US           eng   \n1           US           eng   \n2           US           eng   \n3           US           eng   \n4           US           eng   \n\n                                     popular_shelves        asin is_ebook  \\\n0  [{'count': '58', 'name': 'to-read'}, {'count':...  B00071IKUY    false   \n1  [{'count': '7615', 'name': 'to-read'}, {'count...                false   \n2  [{'count': '54', 'name': 'currently-reading'},...  B01NCIKAQX     true   \n3  [{'count': '3488', 'name': 'to-read'}, {'count...                false   \n4  [{'count': '6393', 'name': 'to-read'}, {'count...                false   \n\n  average_rating  ... publication_month edition_information publication_year  \\\n0           4.03  ...                     Book Club Edition             1987   \n1           3.49  ...                 7                                 2009   \n2           4.33  ...                                                          \n3           3.82  ...                                                          \n4           4.26  ...                                                          \n\n                                                 url  \\\n0  https://www.goodreads.com/book/show/7327624-th...   \n1  https://www.goodreads.com/book/show/6066819-be...   \n2  https://www.goodreads.com/book/show/33394837-t...   \n3  https://www.goodreads.com/book/show/89373.The_...   \n4   https://www.goodreads.com/book/show/89376.Heaven   \n\n                                           image_url   book_id ratings_count  \\\n0  https://images.gr-assets.com/books/1304100136m...   7327624           140   \n1  https://s.gr-assets.com/assets/nophoto/book/11...   6066819         51184   \n2  https://images.gr-assets.com/books/1493114742m...  33394837           269   \n3  https://s.gr-assets.com/assets/nophoto/book/11...     89373            77   \n4  https://images.gr-assets.com/books/1406508230m...     89376          7345   \n\n    work_id                                              title  \\\n0   8948723  The Unschooled Wizard (Sun Wolf and Starhawk, ...   \n1   6243154                               Best Friends Forever   \n2  54143148            The House of Memory (Pluto's Snitch #2)   \n3   1080201                        The Bonfire of the Vanities   \n4     86257                                             Heaven   \n\n                                title_without_series  \n0  The Unschooled Wizard (Sun Wolf and Starhawk, ...  \n1                               Best Friends Forever  \n2            The House of Memory (Pluto's Snitch #2)  \n3                        The Bonfire of the Vanities  \n4                                             Heaven  \n\n[5 rows x 30 columns]",
      "text/html": "<div>\n<style scoped>\n    .dataframe tbody tr th:only-of-type {\n        vertical-align: middle;\n    }\n\n    .dataframe tbody tr th {\n        vertical-align: top;\n    }\n\n    .dataframe thead th {\n        text-align: right;\n    }\n</style>\n<table border=\"1\" class=\"dataframe\">\n  <thead>\n    <tr style=\"text-align: right;\">\n      <th></th>\n      <th>_id</th>\n      <th>isbn</th>\n      <th>text_reviews_count</th>\n      <th>series</th>\n      <th>country_code</th>\n      <th>language_code</th>\n      <th>popular_shelves</th>\n      <th>asin</th>\n      <th>is_ebook</th>\n      <th>average_rating</th>\n      <th>...</th>\n      <th>publication_month</th>\n      <th>edition_information</th>\n      <th>publication_year</th>\n      <th>url</th>\n      <th>image_url</th>\n      <th>book_id</th>\n      <th>ratings_count</th>\n      <th>work_id</th>\n      <th>title</th>\n      <th>title_without_series</th>\n    </tr>\n  </thead>\n  <tbody>\n    <tr>\n      <th>0</th>\n      <td>623e55ba01c96d282f264672</td>\n      <td></td>\n      <td>7</td>\n      <td>[189911]</td>\n      <td>US</td>\n      <td>eng</td>\n      <td>[{'count': '58', 'name': 'to-read'}, {'count':...</td>\n      <td>B00071IKUY</td>\n      <td>false</td>\n      <td>4.03</td>\n      <td>...</td>\n      <td></td>\n      <td>Book Club Edition</td>\n      <td>1987</td>\n      <td>https://www.goodreads.com/book/show/7327624-th...</td>\n      <td>https://images.gr-assets.com/books/1304100136m...</td>\n      <td>7327624</td>\n      <td>140</td>\n      <td>8948723</td>\n      <td>The Unschooled Wizard (Sun Wolf and Starhawk, ...</td>\n      <td>The Unschooled Wizard (Sun Wolf and Starhawk, ...</td>\n    </tr>\n    <tr>\n      <th>1</th>\n      <td>623e55ba01c96d282f264673</td>\n      <td>0743294297</td>\n      <td>3282</td>\n      <td>[]</td>\n      <td>US</td>\n      <td>eng</td>\n      <td>[{'count': '7615', 'name': 'to-read'}, {'count...</td>\n      <td></td>\n      <td>false</td>\n      <td>3.49</td>\n      <td>...</td>\n      <td>7</td>\n      <td></td>\n      <td>2009</td>\n      <td>https://www.goodreads.com/book/show/6066819-be...</td>\n      <td>https://s.gr-assets.com/assets/nophoto/book/11...</td>\n      <td>6066819</td>\n      <td>51184</td>\n      <td>6243154</td>\n      <td>Best Friends Forever</td>\n      <td>Best Friends Forever</td>\n    </tr>\n    <tr>\n      <th>2</th>\n      <td>623e55ba01c96d282f26467b</td>\n      <td></td>\n      <td>60</td>\n      <td>[1052227]</td>\n      <td>US</td>\n      <td>eng</td>\n      <td>[{'count': '54', 'name': 'currently-reading'},...</td>\n      <td>B01NCIKAQX</td>\n      <td>true</td>\n      <td>4.33</td>\n      <td>...</td>\n      <td></td>\n      <td></td>\n      <td></td>\n      <td>https://www.goodreads.com/book/show/33394837-t...</td>\n      <td>https://images.gr-assets.com/books/1493114742m...</td>\n      <td>33394837</td>\n      <td>269</td>\n      <td>54143148</td>\n      <td>The House of Memory (Pluto's Snitch #2)</td>\n      <td>The House of Memory (Pluto's Snitch #2)</td>\n    </tr>\n    <tr>\n      <th>3</th>\n      <td>623e55ba01c96d282f26467e</td>\n      <td>555118000X</td>\n      <td>19</td>\n      <td>[]</td>\n      <td>US</td>\n      <td>eng</td>\n      <td>[{'count': '3488', 'name': 'to-read'}, {'count...</td>\n      <td></td>\n      <td>false</td>\n      <td>3.82</td>\n      <td>...</td>\n      <td></td>\n      <td></td>\n      <td></td>\n      <td>https://www.goodreads.com/book/show/89373.The_...</td>\n      <td>https://s.gr-assets.com/assets/nophoto/book/11...</td>\n      <td>89373</td>\n      <td>77</td>\n      <td>1080201</td>\n      <td>The Bonfire of the Vanities</td>\n      <td>The Bonfire of the Vanities</td>\n    </tr>\n    <tr>\n      <th>4</th>\n      <td>623e55ba01c96d282f264680</td>\n      <td>0842379428</td>\n      <td>566</td>\n      <td>[]</td>\n      <td>US</td>\n      <td>eng</td>\n      <td>[{'count': '6393', 'name': 'to-read'}, {'count...</td>\n      <td></td>\n      <td>false</td>\n      <td>4.26</td>\n      <td>...</td>\n      <td></td>\n      <td></td>\n      <td></td>\n      <td>https://www.goodreads.com/book/show/89376.Heaven</td>\n      <td>https://images.gr-assets.com/books/1406508230m...</td>\n      <td>89376</td>\n      <td>7345</td>\n      <td>86257</td>\n      <td>Heaven</td>\n      <td>Heaven</td>\n    </tr>\n  </tbody>\n</table>\n<p>5 rows × 30 columns</p>\n</div>"
     },
     "execution_count": 36,
     "metadata": {},
     "output_type": "execute_result"
    }
   ],
   "source": [
    "df.head()"
   ],
   "metadata": {
    "collapsed": false,
    "pycharm": {
     "name": "#%%\n"
    }
   }
  },
  {
   "cell_type": "code",
   "execution_count": 37,
   "outputs": [],
   "source": [
    "#Subset df\n",
    "\n",
    "df = df[['title', 'description', 'average_rating', 'num_pages']]"
   ],
   "metadata": {
    "collapsed": false,
    "pycharm": {
     "name": "#%%\n"
    }
   }
  },
  {
   "cell_type": "code",
   "execution_count": 38,
   "outputs": [],
   "source": [
    "df['num_pages'] = pd.to_numeric(df['num_pages'])"
   ],
   "metadata": {
    "collapsed": false,
    "pycharm": {
     "name": "#%%\n"
    }
   }
  },
  {
   "cell_type": "code",
   "execution_count": 39,
   "outputs": [
    {
     "data": {
      "text/plain": "                                                   title  \\\n0      The Unschooled Wizard (Sun Wolf and Starhawk, ...   \n1                                   Best Friends Forever   \n4                                                 Heaven   \n5                                             Dog Heaven   \n8                             Untold Secrets: Fire & Ice   \n...                                                  ...   \n49990                               Eros (Olympiana, #1)   \n49991                                          Fire Play   \n49996                                             Geisha   \n49997                                    The Book of Nod   \n49998                      Claimed Beauty (The Cubi, #2)   \n\n                                             description average_rating  \\\n0      Omnibus book club edition containing the Ladie...           4.03   \n1      Addie Downs and Valerie Adler were eight when ...           3.49   \n4      What is Heaven really going to be like? What w...           4.26   \n5      In Newbery Medalist Cynthia Rylant's classic b...           4.43   \n8      Arrianna Williams is an ordinary 25 yr. old wo...           0.00   \n...                                                  ...            ...   \n49990  William Shakespeare once wrote that, \"Cupid is...           3.49   \n49991  Fire demiurge Lau had it made until the Mother...           3.39   \n49996  In this classic best-seller, Liza Dalby, the o...           3.99   \n49997  Legends of the Undead\\nThe first vampires reme...           3.86   \n49998  Daniel was an Untouchable destined to be train...           4.45   \n\n       num_pages  \n0          600.0  \n1          368.0  \n4          533.0  \n5           40.0  \n8          168.0  \n...          ...  \n49990      332.0  \n49991      190.0  \n49996      367.0  \n49997      134.0  \n49998      245.0  \n\n[32666 rows x 4 columns]",
      "text/html": "<div>\n<style scoped>\n    .dataframe tbody tr th:only-of-type {\n        vertical-align: middle;\n    }\n\n    .dataframe tbody tr th {\n        vertical-align: top;\n    }\n\n    .dataframe thead th {\n        text-align: right;\n    }\n</style>\n<table border=\"1\" class=\"dataframe\">\n  <thead>\n    <tr style=\"text-align: right;\">\n      <th></th>\n      <th>title</th>\n      <th>description</th>\n      <th>average_rating</th>\n      <th>num_pages</th>\n    </tr>\n  </thead>\n  <tbody>\n    <tr>\n      <th>0</th>\n      <td>The Unschooled Wizard (Sun Wolf and Starhawk, ...</td>\n      <td>Omnibus book club edition containing the Ladie...</td>\n      <td>4.03</td>\n      <td>600.0</td>\n    </tr>\n    <tr>\n      <th>1</th>\n      <td>Best Friends Forever</td>\n      <td>Addie Downs and Valerie Adler were eight when ...</td>\n      <td>3.49</td>\n      <td>368.0</td>\n    </tr>\n    <tr>\n      <th>4</th>\n      <td>Heaven</td>\n      <td>What is Heaven really going to be like? What w...</td>\n      <td>4.26</td>\n      <td>533.0</td>\n    </tr>\n    <tr>\n      <th>5</th>\n      <td>Dog Heaven</td>\n      <td>In Newbery Medalist Cynthia Rylant's classic b...</td>\n      <td>4.43</td>\n      <td>40.0</td>\n    </tr>\n    <tr>\n      <th>8</th>\n      <td>Untold Secrets: Fire &amp; Ice</td>\n      <td>Arrianna Williams is an ordinary 25 yr. old wo...</td>\n      <td>0.00</td>\n      <td>168.0</td>\n    </tr>\n    <tr>\n      <th>...</th>\n      <td>...</td>\n      <td>...</td>\n      <td>...</td>\n      <td>...</td>\n    </tr>\n    <tr>\n      <th>49990</th>\n      <td>Eros (Olympiana, #1)</td>\n      <td>William Shakespeare once wrote that, \"Cupid is...</td>\n      <td>3.49</td>\n      <td>332.0</td>\n    </tr>\n    <tr>\n      <th>49991</th>\n      <td>Fire Play</td>\n      <td>Fire demiurge Lau had it made until the Mother...</td>\n      <td>3.39</td>\n      <td>190.0</td>\n    </tr>\n    <tr>\n      <th>49996</th>\n      <td>Geisha</td>\n      <td>In this classic best-seller, Liza Dalby, the o...</td>\n      <td>3.99</td>\n      <td>367.0</td>\n    </tr>\n    <tr>\n      <th>49997</th>\n      <td>The Book of Nod</td>\n      <td>Legends of the Undead\\nThe first vampires reme...</td>\n      <td>3.86</td>\n      <td>134.0</td>\n    </tr>\n    <tr>\n      <th>49998</th>\n      <td>Claimed Beauty (The Cubi, #2)</td>\n      <td>Daniel was an Untouchable destined to be train...</td>\n      <td>4.45</td>\n      <td>245.0</td>\n    </tr>\n  </tbody>\n</table>\n<p>32666 rows × 4 columns</p>\n</div>"
     },
     "execution_count": 39,
     "metadata": {},
     "output_type": "execute_result"
    }
   ],
   "source": [
    "#Remove empty strings and null values\n",
    "\n",
    "df.replace('', np.nan, inplace=True)\n",
    "df.dropna(inplace=True)\n",
    "df.drop_duplicates(keep=\"last\")"
   ],
   "metadata": {
    "collapsed": false,
    "pycharm": {
     "name": "#%%\n"
    }
   }
  },
  {
   "cell_type": "code",
   "execution_count": 40,
   "outputs": [],
   "source": [
    "df['num_pages'] = df['num_pages']>=200"
   ],
   "metadata": {
    "collapsed": false,
    "pycharm": {
     "name": "#%%\n"
    }
   }
  },
  {
   "cell_type": "code",
   "execution_count": 41,
   "outputs": [
    {
     "data": {
      "text/plain": "(32719, 4)"
     },
     "execution_count": 41,
     "metadata": {},
     "output_type": "execute_result"
    }
   ],
   "source": [
    "df.shape"
   ],
   "metadata": {
    "collapsed": false,
    "pycharm": {
     "name": "#%%\n"
    }
   }
  },
  {
   "cell_type": "markdown",
   "source": [
    "Tokenization"
   ],
   "metadata": {
    "collapsed": false
   }
  },
  {
   "cell_type": "code",
   "execution_count": 42,
   "outputs": [
    {
     "data": {
      "text/plain": "32719"
     },
     "execution_count": 42,
     "metadata": {},
     "output_type": "execute_result"
    }
   ],
   "source": [
    "import nltk\n",
    "\n",
    "stop_words = nltk.corpus.stopwords.words('english')\n",
    "\n",
    "def normalize_document(doc):\n",
    "    # lower case and remove special characters\\whitespaces AND remove null fields\n",
    "    doc = re.sub(r'[^a-zA-Z0-9\\s]', '', doc, re.I|re.A)\n",
    "    doc = doc.lower()\n",
    "    doc = doc.strip()\n",
    "\n",
    "    # tokenize document\n",
    "    tokens = nltk.word_tokenize(doc)\n",
    "    # filter stopwords out of document\n",
    "    filtered_tokens = [token for token in tokens if token not in stop_words]\n",
    "    # re-create document from filtered tokens\n",
    "    doc = ' '.join(filtered_tokens)\n",
    "    return doc\n",
    "\n",
    "normalize_corpus = np.vectorize(normalize_document)\n",
    "\n",
    "norm_corpus = normalize_corpus(list(df['description']))\n",
    "len(norm_corpus)"
   ],
   "metadata": {
    "collapsed": false,
    "pycharm": {
     "name": "#%%\n"
    }
   }
  },
  {
   "cell_type": "markdown",
   "source": [
    "Preprocessing"
   ],
   "metadata": {
    "collapsed": false
   }
  },
  {
   "cell_type": "code",
   "execution_count": 43,
   "outputs": [
    {
     "data": {
      "text/plain": "(32719, 317068)"
     },
     "execution_count": 43,
     "metadata": {},
     "output_type": "execute_result"
    }
   ],
   "source": [
    "#Extract TF-IDF Features\n",
    "\n",
    "from sklearn.feature_extraction.text import TfidfVectorizer\n",
    "\n",
    "tf = TfidfVectorizer(ngram_range=(1, 2), min_df=2)\n",
    "tfidf_matrix = tf.fit_transform(norm_corpus)\n",
    "tfidf_matrix.shape"
   ],
   "metadata": {
    "collapsed": false,
    "pycharm": {
     "name": "#%%\n"
    }
   }
  },
  {
   "cell_type": "code",
   "execution_count": 44,
   "outputs": [
    {
     "data": {
      "text/plain": "      0         1         2         3         4      5         6      \\\n0  1.000000  0.000000  0.005981  0.004370  0.014802    0.0  0.005056   \n1  0.000000  1.000000  0.002182  0.003718  0.005749    0.0  0.006680   \n2  0.005981  0.002182  1.000000  0.085938  0.022028    0.0  0.049752   \n3  0.004370  0.003718  0.085938  1.000000  0.009635    0.0  0.026515   \n4  0.014802  0.005749  0.022028  0.009635  1.000000    0.0  0.013786   \n\n      7         8      9      ...     32709     32710     32711     32712  \\\n0  0.000000  0.006920    0.0  ...  0.008026  0.000000  0.000000  0.013299   \n1  0.009121  0.005101    0.0  ...  0.000000  0.004916  0.004498  0.015013   \n2  0.006239  0.002752    0.0  ...  0.005460  0.003548  0.015108  0.016960   \n3  0.011033  0.007503    0.0  ...  0.002332  0.006754  0.000000  0.005366   \n4  0.005105  0.009344    0.0  ...  0.007900  0.008748  0.003867  0.019142   \n\n      32713     32714     32715     32716     32717     32718  \n0  0.000000  0.000000  0.000000  0.000000  0.026608  0.000000  \n1  0.014073  0.003637  0.008619  0.000000  0.002910  0.006097  \n2  0.002255  0.018128  0.013087  0.010381  0.005844  0.007399  \n3  0.011157  0.011132  0.001596  0.049253  0.004967  0.010517  \n4  0.000000  0.017924  0.021673  0.002541  0.010339  0.007452  \n\n[5 rows x 32719 columns]",
      "text/html": "<div>\n<style scoped>\n    .dataframe tbody tr th:only-of-type {\n        vertical-align: middle;\n    }\n\n    .dataframe tbody tr th {\n        vertical-align: top;\n    }\n\n    .dataframe thead th {\n        text-align: right;\n    }\n</style>\n<table border=\"1\" class=\"dataframe\">\n  <thead>\n    <tr style=\"text-align: right;\">\n      <th></th>\n      <th>0</th>\n      <th>1</th>\n      <th>2</th>\n      <th>3</th>\n      <th>4</th>\n      <th>5</th>\n      <th>6</th>\n      <th>7</th>\n      <th>8</th>\n      <th>9</th>\n      <th>...</th>\n      <th>32709</th>\n      <th>32710</th>\n      <th>32711</th>\n      <th>32712</th>\n      <th>32713</th>\n      <th>32714</th>\n      <th>32715</th>\n      <th>32716</th>\n      <th>32717</th>\n      <th>32718</th>\n    </tr>\n  </thead>\n  <tbody>\n    <tr>\n      <th>0</th>\n      <td>1.000000</td>\n      <td>0.000000</td>\n      <td>0.005981</td>\n      <td>0.004370</td>\n      <td>0.014802</td>\n      <td>0.0</td>\n      <td>0.005056</td>\n      <td>0.000000</td>\n      <td>0.006920</td>\n      <td>0.0</td>\n      <td>...</td>\n      <td>0.008026</td>\n      <td>0.000000</td>\n      <td>0.000000</td>\n      <td>0.013299</td>\n      <td>0.000000</td>\n      <td>0.000000</td>\n      <td>0.000000</td>\n      <td>0.000000</td>\n      <td>0.026608</td>\n      <td>0.000000</td>\n    </tr>\n    <tr>\n      <th>1</th>\n      <td>0.000000</td>\n      <td>1.000000</td>\n      <td>0.002182</td>\n      <td>0.003718</td>\n      <td>0.005749</td>\n      <td>0.0</td>\n      <td>0.006680</td>\n      <td>0.009121</td>\n      <td>0.005101</td>\n      <td>0.0</td>\n      <td>...</td>\n      <td>0.000000</td>\n      <td>0.004916</td>\n      <td>0.004498</td>\n      <td>0.015013</td>\n      <td>0.014073</td>\n      <td>0.003637</td>\n      <td>0.008619</td>\n      <td>0.000000</td>\n      <td>0.002910</td>\n      <td>0.006097</td>\n    </tr>\n    <tr>\n      <th>2</th>\n      <td>0.005981</td>\n      <td>0.002182</td>\n      <td>1.000000</td>\n      <td>0.085938</td>\n      <td>0.022028</td>\n      <td>0.0</td>\n      <td>0.049752</td>\n      <td>0.006239</td>\n      <td>0.002752</td>\n      <td>0.0</td>\n      <td>...</td>\n      <td>0.005460</td>\n      <td>0.003548</td>\n      <td>0.015108</td>\n      <td>0.016960</td>\n      <td>0.002255</td>\n      <td>0.018128</td>\n      <td>0.013087</td>\n      <td>0.010381</td>\n      <td>0.005844</td>\n      <td>0.007399</td>\n    </tr>\n    <tr>\n      <th>3</th>\n      <td>0.004370</td>\n      <td>0.003718</td>\n      <td>0.085938</td>\n      <td>1.000000</td>\n      <td>0.009635</td>\n      <td>0.0</td>\n      <td>0.026515</td>\n      <td>0.011033</td>\n      <td>0.007503</td>\n      <td>0.0</td>\n      <td>...</td>\n      <td>0.002332</td>\n      <td>0.006754</td>\n      <td>0.000000</td>\n      <td>0.005366</td>\n      <td>0.011157</td>\n      <td>0.011132</td>\n      <td>0.001596</td>\n      <td>0.049253</td>\n      <td>0.004967</td>\n      <td>0.010517</td>\n    </tr>\n    <tr>\n      <th>4</th>\n      <td>0.014802</td>\n      <td>0.005749</td>\n      <td>0.022028</td>\n      <td>0.009635</td>\n      <td>1.000000</td>\n      <td>0.0</td>\n      <td>0.013786</td>\n      <td>0.005105</td>\n      <td>0.009344</td>\n      <td>0.0</td>\n      <td>...</td>\n      <td>0.007900</td>\n      <td>0.008748</td>\n      <td>0.003867</td>\n      <td>0.019142</td>\n      <td>0.000000</td>\n      <td>0.017924</td>\n      <td>0.021673</td>\n      <td>0.002541</td>\n      <td>0.010339</td>\n      <td>0.007452</td>\n    </tr>\n  </tbody>\n</table>\n<p>5 rows × 32719 columns</p>\n</div>"
     },
     "execution_count": 44,
     "metadata": {},
     "output_type": "execute_result"
    }
   ],
   "source": [
    "#Pairwise Similarity\n",
    "\n",
    "from sklearn.metrics.pairwise import cosine_similarity\n",
    "\n",
    "doc_sim = cosine_similarity(tfidf_matrix)\n",
    "doc_sim_df = pd.DataFrame(doc_sim)\n",
    "doc_sim_df.head()"
   ],
   "metadata": {
    "collapsed": false,
    "pycharm": {
     "name": "#%%\n"
    }
   }
  },
  {
   "cell_type": "code",
   "execution_count": 45,
   "outputs": [
    {
     "data": {
      "text/plain": "(array(['The Unschooled Wizard (Sun Wolf and Starhawk, #1-2)',\n        'Best Friends Forever', 'Heaven', ..., 'Geisha', 'The Book of Nod',\n        'Claimed Beauty (The Cubi, #2)'], dtype=object),\n (32719,))"
     },
     "execution_count": 45,
     "metadata": {},
     "output_type": "execute_result"
    }
   ],
   "source": [
    "#Extract book titles\n",
    "\n",
    "book_list = df['title'].values\n",
    "book_list, book_list.shape"
   ],
   "metadata": {
    "collapsed": false,
    "pycharm": {
     "name": "#%%\n"
    }
   }
  },
  {
   "cell_type": "code",
   "execution_count": 46,
   "outputs": [
    {
     "data": {
      "text/plain": "4"
     },
     "execution_count": 46,
     "metadata": {},
     "output_type": "execute_result"
    }
   ],
   "source": [
    "#Top 5 Most Similar Titles\n",
    "\n",
    "#Find ID\n",
    "\n",
    "book_idx = np.where(book_list == 'Untold Secrets: Fire & Ice')[0][0]\n",
    "book_idx"
   ],
   "metadata": {
    "collapsed": false,
    "pycharm": {
     "name": "#%%\n"
    }
   }
  },
  {
   "cell_type": "code",
   "execution_count": 47,
   "outputs": [
    {
     "data": {
      "text/plain": "array([0.01480158, 0.00574926, 0.0220278 , ..., 0.00254134, 0.01033887,\n       0.0074517 ])"
     },
     "execution_count": 47,
     "metadata": {},
     "output_type": "execute_result"
    }
   ],
   "source": [
    "book_similarities = doc_sim_df.iloc[book_idx].values\n",
    "book_similarities"
   ],
   "metadata": {
    "collapsed": false,
    "pycharm": {
     "name": "#%%\n"
    }
   }
  },
  {
   "cell_type": "code",
   "execution_count": 48,
   "outputs": [
    {
     "data": {
      "text/plain": "array([ 9399, 26301, 19383, 14348, 23668], dtype=int64)"
     },
     "execution_count": 48,
     "metadata": {},
     "output_type": "execute_result"
    }
   ],
   "source": [
    "similar_book_idxs = np.argsort(-book_similarities)[1:6]\n",
    "similar_book_idxs"
   ],
   "metadata": {
    "collapsed": false,
    "pycharm": {
     "name": "#%%\n"
    }
   }
  },
  {
   "cell_type": "code",
   "execution_count": 49,
   "outputs": [
    {
     "data": {
      "text/plain": "array(['City of Secrets (Saskia Trilogy, #2)', 'Hermit: A Novella',\n       'Bublos', 'Her Fallen Angel (Her Angel, #2)',\n       'The Wind-up Forest  (Archangel Chronicles #4)'], dtype=object)"
     },
     "execution_count": 49,
     "metadata": {},
     "output_type": "execute_result"
    }
   ],
   "source": [
    "similar_books = book_list[similar_book_idxs]\n",
    "similar_books"
   ],
   "metadata": {
    "collapsed": false,
    "pycharm": {
     "name": "#%%\n"
    }
   }
  },
  {
   "cell_type": "code",
   "execution_count": 50,
   "outputs": [],
   "source": [
    "def book_recommender(book_title, books=book_list, doc_sims=doc_sim_df):\n",
    "    # find book id\n",
    "    book_idx = np.where(books == book_title)[0][0]\n",
    "    # get book similarities\n",
    "    book_similarities = doc_sims.iloc[book_idx].values\n",
    "    # get top 5 similar book IDs\n",
    "    similar_book_idxs = np.argsort(-book_similarities)[1:6]\n",
    "    # get top 5 books\n",
    "    similar_books = books[similar_book_idxs]\n",
    "    # return the top 5 books\n",
    "    return similar_books"
   ],
   "metadata": {
    "collapsed": false,
    "pycharm": {
     "name": "#%%\n"
    }
   }
  },
  {
   "cell_type": "code",
   "execution_count": 51,
   "outputs": [
    {
     "data": {
      "text/plain": "                                                   title  \\\n18099  The Silent Soldiers: Back To School (The Silen...   \n2275                    The Successful Author's Handbook   \n39594                                        Chickenhood   \n30526                                    The Next Victim   \n30530  The 'Fishy' Adventures of Gus, Toby and TooToo...   \n\n                                             description average_rating  \\\n18099  Luke continues to follow his destiny, and fulf...           5.00   \n2275   The Successful Author's Handbook is a collecti...           5.00   \n39594                                    poetry chapbook           5.00   \n30526  After her mother's brutal murder, Elle finds h...           5.00   \n30530  Hi, it's me, Gus, again! Your rainbow trout fr...           5.00   \n\n       num_pages  \n18099       True  \n2275       False  \n39594      False  \n30526       True  \n30530      False  ",
      "text/html": "<div>\n<style scoped>\n    .dataframe tbody tr th:only-of-type {\n        vertical-align: middle;\n    }\n\n    .dataframe tbody tr th {\n        vertical-align: top;\n    }\n\n    .dataframe thead th {\n        text-align: right;\n    }\n</style>\n<table border=\"1\" class=\"dataframe\">\n  <thead>\n    <tr style=\"text-align: right;\">\n      <th></th>\n      <th>title</th>\n      <th>description</th>\n      <th>average_rating</th>\n      <th>num_pages</th>\n    </tr>\n  </thead>\n  <tbody>\n    <tr>\n      <th>18099</th>\n      <td>The Silent Soldiers: Back To School (The Silen...</td>\n      <td>Luke continues to follow his destiny, and fulf...</td>\n      <td>5.00</td>\n      <td>True</td>\n    </tr>\n    <tr>\n      <th>2275</th>\n      <td>The Successful Author's Handbook</td>\n      <td>The Successful Author's Handbook is a collecti...</td>\n      <td>5.00</td>\n      <td>False</td>\n    </tr>\n    <tr>\n      <th>39594</th>\n      <td>Chickenhood</td>\n      <td>poetry chapbook</td>\n      <td>5.00</td>\n      <td>False</td>\n    </tr>\n    <tr>\n      <th>30526</th>\n      <td>The Next Victim</td>\n      <td>After her mother's brutal murder, Elle finds h...</td>\n      <td>5.00</td>\n      <td>True</td>\n    </tr>\n    <tr>\n      <th>30530</th>\n      <td>The 'Fishy' Adventures of Gus, Toby and TooToo...</td>\n      <td>Hi, it's me, Gus, again! Your rainbow trout fr...</td>\n      <td>5.00</td>\n      <td>False</td>\n    </tr>\n  </tbody>\n</table>\n</div>"
     },
     "execution_count": 51,
     "metadata": {},
     "output_type": "execute_result"
    }
   ],
   "source": [
    "#Most Popular\n",
    "\n",
    "pop_books = df.sort_values(by='average_rating', ascending=False)\n",
    "pop_books.head()"
   ],
   "metadata": {
    "collapsed": false,
    "pycharm": {
     "name": "#%%\n"
    }
   }
  },
  {
   "cell_type": "code",
   "execution_count": 52,
   "outputs": [],
   "source": [
    "popular_books = pop_books.title[:10]"
   ],
   "metadata": {
    "collapsed": false,
    "pycharm": {
     "name": "#%%\n"
    }
   }
  },
  {
   "cell_type": "code",
   "execution_count": 53,
   "outputs": [
    {
     "name": "stdout",
     "output_type": "stream",
     "text": [
      "Book Title: The Silent Soldiers: Back To School (The Silent Soldiers, #2)\n",
      "Top 5 recommended Books:\n",
      " ['Desert Chimera (Stone Quest, #1)' 'Anton and the Battle' 'Hold'\n",
      " 'Staying For Good' 'Homecoming Ranch (Pine River, #1)']\n",
      "\n",
      "Book Title: The Successful Author's Handbook\n",
      "Top 5 recommended Books:\n",
      " ['Public Speaking for Authors, Creatives and Other Introverts'\n",
      " 'Public Speaking Boot Camp: A practical guide to delivering talks with substance, clarity & confidence'\n",
      " \"Is Self-Publishing For  You?: A Quick Guide For Navigating Today's Book Publishing Maze\"\n",
      " 'Finding Author Success'\n",
      " 'Do You Talk Funny? 7 Comedy Habits to Become a Better (and Funnier) Public Speaker']\n",
      "\n",
      "Book Title: Chickenhood\n",
      "Top 5 recommended Books:\n",
      " ['Navigating the Old Road' 'Aphasia' 'The Writing'\n",
      " 'On the Kitchen Table From Which Everything Has Been Hastily Removed'\n",
      " 'Correspondence in D Minor']\n",
      "\n",
      "Book Title: The Next Victim\n",
      "Top 5 recommended Books:\n",
      " ['What Came Before'\n",
      " \"The Billionaire's Unlikely Bride (The Billionaire's Bride, #2)\"\n",
      " 'Red Carpet Kiss' 'A Kind of Magic (The Shields, # 2)'\n",
      " 'Breaking Elle (Break Me, #1)']\n",
      "\n",
      "Book Title: The 'Fishy' Adventures of Gus, Toby and TooToo (Big Tale 2)\n",
      "Top 5 recommended Books:\n",
      " ['Dawn of the Bunny Suicides' \"The War of Jenkins' Ear\"\n",
      " 'Burning Through Their Eyes' 'Midnight Lover (Forever Vampires #5)'\n",
      " 'The Mystery of the Fiery Eye']\n",
      "\n",
      "Book Title: Strummed\n",
      "Top 5 recommended Books:\n",
      " ['Rock & Roll Curves (Rock & Roll Curves, #1)'\n",
      " 'Night People, Book 1 (Things We Lost in the Night: A Memoir of Love and Music in the 60s with Stark Naked and the Car Thieves, #1)'\n",
      " 'This Roll in My Soul' 'Rod: The Autobiography' 'The Book of Hieroglyphs']\n",
      "\n",
      "Book Title: Three Children and Shakespeare\n",
      "Top 5 recommended Books:\n",
      " [\"A Midsummer Night's Dream\" 'Philippics I-II'\n",
      " 'The Oedipus Plays of Sophocles' \"A Midsummer Night's Dream\"\n",
      " 'Minimal Screeds & Transcendental Scrawls']\n",
      "\n",
      "Book Title: Thrilling Tales Showcase\n",
      "Top 5 recommended Books:\n",
      " ['Doctor Who: Haunted' 'Heaven' 'Upgrade Soul Vol. 2'\n",
      " 'Flight to Heaven: A Plane Crash...a Lone Survivor...a Journey to Heaven--And Back'\n",
      " 'Rainbows (Looking at the Sky series)']\n",
      "\n",
      "Book Title: Clarity Now\n",
      "Top 5 recommended Books:\n",
      " ['Management in Tips Vol. 1' 'Shall We Gather' 'The Little Book of Crap'\n",
      " 'Live, Laugh, Lounge' 'Home Monitoring on Smart Phone - Do It Yourself']\n",
      "\n",
      "Book Title: Ultimate Novel Planning Workbook\n",
      "Top 5 recommended Books:\n",
      " ['Professor Ladybug Teaches Basic Cursive: Script Alphabet Exercise Workbook for Children (Volume 3)'\n",
      " 'The Rise and Fall of the Third Reich: A History of Nazi Germany'\n",
      " 'The Love Plot Workbook: How to Plot a Romance Novel'\n",
      " 'Classical Greece: Great Ages of Man' 'Excel 2010 for Dummies']\n",
      "\n"
     ]
    }
   ],
   "source": [
    "for book in popular_books:\n",
    "    print('Book Title:', book)\n",
    "    print('Top 5 recommended Books:\\n', book_recommender(book_title=book))\n",
    "    print()"
   ],
   "metadata": {
    "collapsed": false,
    "pycharm": {
     "name": "#%%\n"
    }
   }
  },
  {
   "cell_type": "code",
   "execution_count": 53,
   "outputs": [],
   "source": [],
   "metadata": {
    "collapsed": false,
    "pycharm": {
     "name": "#%%\n"
    }
   }
  }
 ],
 "metadata": {
  "kernelspec": {
   "display_name": "Python 3",
   "language": "python",
   "name": "python3"
  },
  "language_info": {
   "codemirror_mode": {
    "name": "ipython",
    "version": 2
   },
   "file_extension": ".py",
   "mimetype": "text/x-python",
   "name": "python",
   "nbconvert_exporter": "python",
   "pygments_lexer": "ipython2",
   "version": "2.7.6"
  }
 },
 "nbformat": 4,
 "nbformat_minor": 0
}